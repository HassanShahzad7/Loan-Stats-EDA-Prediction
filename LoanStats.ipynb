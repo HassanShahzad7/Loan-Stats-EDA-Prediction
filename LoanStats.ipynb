{
 "cells": [
  {
   "cell_type": "markdown",
   "metadata": {},
   "source": [
    "# Loan Stats"
   ]
  },
  {
   "cell_type": "markdown",
   "metadata": {},
   "source": [
    "## Data Preprocessing"
   ]
  },
  {
   "cell_type": "code",
   "execution_count": 444,
   "metadata": {},
   "outputs": [
    {
     "name": "stderr",
     "output_type": "stream",
     "text": [
      "C:\\ProgramData\\Anaconda3\\lib\\site-packages\\IPython\\core\\interactiveshell.py:3063: DtypeWarning: Columns (0,47) have mixed types.Specify dtype option on import or set low_memory=False.\n",
      "  interactivity=interactivity, compiler=compiler, result=result)\n"
     ]
    },
    {
     "name": "stdout",
     "output_type": "stream",
     "text": [
      "<class 'pandas.core.frame.DataFrame'>\n",
      "RangeIndex: 42542 entries, 0 to 42541\n",
      "Data columns (total 145 columns):\n",
      " #   Column                                      Non-Null Count  Dtype  \n",
      "---  ------                                      --------------  -----  \n",
      " 0   id                                          3 non-null      object \n",
      " 1   member_id                                   0 non-null      float64\n",
      " 2   loan_amnt                                   42535 non-null  float64\n",
      " 3   funded_amnt                                 42535 non-null  float64\n",
      " 4   funded_amnt_inv                             42535 non-null  float64\n",
      " 5   term                                        42535 non-null  object \n",
      " 6   int_rate                                    42535 non-null  object \n",
      " 7   installment                                 42535 non-null  float64\n",
      " 8   grade                                       42535 non-null  object \n",
      " 9   sub_grade                                   42535 non-null  object \n",
      " 10  emp_title                                   39909 non-null  object \n",
      " 11  emp_length                                  41423 non-null  object \n",
      " 12  home_ownership                              42535 non-null  object \n",
      " 13  annual_inc                                  42531 non-null  float64\n",
      " 14  verification_status                         42535 non-null  object \n",
      " 15  issue_d                                     42535 non-null  object \n",
      " 16  loan_status                                 42535 non-null  object \n",
      " 17  pymnt_plan                                  42535 non-null  object \n",
      " 18  url                                         0 non-null      float64\n",
      " 19  desc                                        29242 non-null  object \n",
      " 20  purpose                                     42535 non-null  object \n",
      " 21  title                                       42522 non-null  object \n",
      " 22  zip_code                                    42535 non-null  object \n",
      " 23  addr_state                                  42535 non-null  object \n",
      " 24  dti                                         42535 non-null  float64\n",
      " 25  delinq_2yrs                                 42506 non-null  float64\n",
      " 26  earliest_cr_line                            42506 non-null  object \n",
      " 27  inq_last_6mths                              42506 non-null  float64\n",
      " 28  mths_since_last_delinq                      15609 non-null  float64\n",
      " 29  mths_since_last_record                      3651 non-null   float64\n",
      " 30  open_acc                                    42506 non-null  float64\n",
      " 31  pub_rec                                     42506 non-null  float64\n",
      " 32  revol_bal                                   42535 non-null  float64\n",
      " 33  revol_util                                  42445 non-null  object \n",
      " 34  total_acc                                   42506 non-null  float64\n",
      " 35  initial_list_status                         42535 non-null  object \n",
      " 36  out_prncp                                   42535 non-null  float64\n",
      " 37  out_prncp_inv                               42535 non-null  float64\n",
      " 38  total_pymnt                                 42535 non-null  float64\n",
      " 39  total_pymnt_inv                             42535 non-null  float64\n",
      " 40  total_rec_prncp                             42535 non-null  float64\n",
      " 41  total_rec_int                               42535 non-null  float64\n",
      " 42  total_rec_late_fee                          42535 non-null  float64\n",
      " 43  recoveries                                  42535 non-null  float64\n",
      " 44  collection_recovery_fee                     42535 non-null  float64\n",
      " 45  last_pymnt_d                                42452 non-null  object \n",
      " 46  last_pymnt_amnt                             42535 non-null  float64\n",
      " 47  next_pymnt_d                                2749 non-null   object \n",
      " 48  last_credit_pull_d                          42531 non-null  object \n",
      " 49  collections_12_mths_ex_med                  42390 non-null  float64\n",
      " 50  mths_since_last_major_derog                 0 non-null      float64\n",
      " 51  policy_code                                 42535 non-null  float64\n",
      " 52  application_type                            42535 non-null  object \n",
      " 53  annual_inc_joint                            0 non-null      float64\n",
      " 54  dti_joint                                   0 non-null      float64\n",
      " 55  verification_status_joint                   0 non-null      float64\n",
      " 56  acc_now_delinq                              42506 non-null  float64\n",
      " 57  tot_coll_amt                                0 non-null      float64\n",
      " 58  tot_cur_bal                                 0 non-null      float64\n",
      " 59  open_acc_6m                                 0 non-null      float64\n",
      " 60  open_act_il                                 0 non-null      float64\n",
      " 61  open_il_12m                                 0 non-null      float64\n",
      " 62  open_il_24m                                 0 non-null      float64\n",
      " 63  mths_since_rcnt_il                          0 non-null      float64\n",
      " 64  total_bal_il                                0 non-null      float64\n",
      " 65  il_util                                     0 non-null      float64\n",
      " 66  open_rv_12m                                 0 non-null      float64\n",
      " 67  open_rv_24m                                 0 non-null      float64\n",
      " 68  max_bal_bc                                  0 non-null      float64\n",
      " 69  all_util                                    0 non-null      float64\n",
      " 70  total_rev_hi_lim                            0 non-null      float64\n",
      " 71  inq_fi                                      0 non-null      float64\n",
      " 72  total_cu_tl                                 0 non-null      float64\n",
      " 73  inq_last_12m                                0 non-null      float64\n",
      " 74  acc_open_past_24mths                        0 non-null      float64\n",
      " 75  avg_cur_bal                                 0 non-null      float64\n",
      " 76  bc_open_to_buy                              0 non-null      float64\n",
      " 77  bc_util                                     0 non-null      float64\n",
      " 78  chargeoff_within_12_mths                    42390 non-null  float64\n",
      " 79  delinq_amnt                                 42506 non-null  float64\n",
      " 80  mo_sin_old_il_acct                          0 non-null      float64\n",
      " 81  mo_sin_old_rev_tl_op                        0 non-null      float64\n",
      " 82  mo_sin_rcnt_rev_tl_op                       0 non-null      float64\n",
      " 83  mo_sin_rcnt_tl                              0 non-null      float64\n",
      " 84  mort_acc                                    0 non-null      float64\n",
      " 85  mths_since_recent_bc                        0 non-null      float64\n",
      " 86  mths_since_recent_bc_dlq                    0 non-null      float64\n",
      " 87  mths_since_recent_inq                       0 non-null      float64\n",
      " 88  mths_since_recent_revol_delinq              0 non-null      float64\n",
      " 89  num_accts_ever_120_pd                       0 non-null      float64\n",
      " 90  num_actv_bc_tl                              0 non-null      float64\n",
      " 91  num_actv_rev_tl                             0 non-null      float64\n",
      " 92  num_bc_sats                                 0 non-null      float64\n",
      " 93  num_bc_tl                                   0 non-null      float64\n",
      " 94  num_il_tl                                   0 non-null      float64\n",
      " 95  num_op_rev_tl                               0 non-null      float64\n",
      " 96  num_rev_accts                               0 non-null      float64\n",
      " 97  num_rev_tl_bal_gt_0                         0 non-null      float64\n",
      " 98  num_sats                                    0 non-null      float64\n",
      " 99  num_tl_120dpd_2m                            0 non-null      float64\n",
      " 100 num_tl_30dpd                                0 non-null      float64\n",
      " 101 num_tl_90g_dpd_24m                          0 non-null      float64\n",
      " 102 num_tl_op_past_12m                          0 non-null      float64\n",
      " 103 pct_tl_nvr_dlq                              0 non-null      float64\n",
      " 104 percent_bc_gt_75                            0 non-null      float64\n",
      " 105 pub_rec_bankruptcies                        41170 non-null  float64\n",
      " 106 tax_liens                                   42430 non-null  float64\n",
      " 107 tot_hi_cred_lim                             0 non-null      float64\n",
      " 108 total_bal_ex_mort                           0 non-null      float64\n",
      " 109 total_bc_limit                              0 non-null      float64\n",
      " 110 total_il_high_credit_limit                  0 non-null      float64\n",
      " 111 revol_bal_joint                             0 non-null      float64\n",
      " 112 sec_app_earliest_cr_line                    0 non-null      float64\n",
      " 113 sec_app_inq_last_6mths                      0 non-null      float64\n",
      " 114 sec_app_mort_acc                            0 non-null      float64\n",
      " 115 sec_app_open_acc                            0 non-null      float64\n",
      " 116 sec_app_revol_util                          0 non-null      float64\n",
      " 117 sec_app_open_act_il                         0 non-null      float64\n",
      " 118 sec_app_num_rev_accts                       0 non-null      float64\n",
      " 119 sec_app_chargeoff_within_12_mths            0 non-null      float64\n",
      " 120 sec_app_collections_12_mths_ex_med          0 non-null      float64\n",
      " 121 sec_app_mths_since_last_major_derog         0 non-null      float64\n",
      " 122 hardship_flag                               42535 non-null  object \n",
      " 123 hardship_type                               0 non-null      float64\n",
      " 124 hardship_reason                             0 non-null      float64\n",
      " 125 hardship_status                             0 non-null      float64\n",
      " 126 deferral_term                               0 non-null      float64\n",
      " 127 hardship_amount                             0 non-null      float64\n",
      " 128 hardship_start_date                         0 non-null      float64\n",
      " 129 hardship_end_date                           0 non-null      float64\n",
      " 130 payment_plan_start_date                     0 non-null      float64\n",
      " 131 hardship_length                             0 non-null      float64\n",
      " 132 hardship_dpd                                0 non-null      float64\n",
      " 133 hardship_loan_status                        0 non-null      float64\n",
      " 134 orig_projected_additional_accrued_interest  0 non-null      float64\n",
      " 135 hardship_payoff_balance_amount              0 non-null      float64\n",
      " 136 hardship_last_payment_amount                0 non-null      float64\n",
      " 137 disbursement_method                         42535 non-null  object \n",
      " 138 debt_settlement_flag                        42535 non-null  object \n",
      " 139 debt_settlement_flag_date                   160 non-null    object \n",
      " 140 settlement_status                           160 non-null    object \n",
      " 141 settlement_date                             160 non-null    object \n",
      " 142 settlement_amount                           160 non-null    float64\n",
      " 143 settlement_percentage                       160 non-null    float64\n",
      " 144 settlement_term                             160 non-null    float64\n",
      "dtypes: float64(115), object(30)\n",
      "memory usage: 47.1+ MB\n"
     ]
    }
   ],
   "source": [
    "# importing libraries\n",
    "import numpy as np\n",
    "import matplotlib.pyplot as plt\n",
    "import pandas as pd\n",
    "import seaborn as sns\n",
    "\n",
    "# importing dataset and forcing the dataset to show all the variables as \n",
    "# it will not show otherwise since the number of columns are quite large\n",
    "df = pd.read_csv('E:\\\\datasets\\\\LoanStats\\\\LoanStats3a.csv')\n",
    "df.info(verbose = True, null_counts = True)"
   ]
  },
  {
   "cell_type": "code",
   "execution_count": 445,
   "metadata": {},
   "outputs": [
    {
     "data": {
      "text/plain": [
       "['id',\n",
       " 'member_id',\n",
       " 'pymnt_plan',\n",
       " 'url',\n",
       " 'initial_list_status',\n",
       " 'out_prncp',\n",
       " 'out_prncp_inv',\n",
       " 'collections_12_mths_ex_med',\n",
       " 'mths_since_last_major_derog',\n",
       " 'policy_code',\n",
       " 'application_type',\n",
       " 'annual_inc_joint',\n",
       " 'dti_joint',\n",
       " 'verification_status_joint',\n",
       " 'tot_coll_amt',\n",
       " 'tot_cur_bal',\n",
       " 'open_acc_6m',\n",
       " 'open_act_il',\n",
       " 'open_il_12m',\n",
       " 'open_il_24m',\n",
       " 'mths_since_rcnt_il',\n",
       " 'total_bal_il',\n",
       " 'il_util',\n",
       " 'open_rv_12m',\n",
       " 'open_rv_24m',\n",
       " 'max_bal_bc',\n",
       " 'all_util',\n",
       " 'total_rev_hi_lim',\n",
       " 'inq_fi',\n",
       " 'total_cu_tl',\n",
       " 'inq_last_12m',\n",
       " 'acc_open_past_24mths',\n",
       " 'avg_cur_bal',\n",
       " 'bc_open_to_buy',\n",
       " 'bc_util',\n",
       " 'chargeoff_within_12_mths',\n",
       " 'mo_sin_old_il_acct',\n",
       " 'mo_sin_old_rev_tl_op',\n",
       " 'mo_sin_rcnt_rev_tl_op',\n",
       " 'mo_sin_rcnt_tl',\n",
       " 'mort_acc',\n",
       " 'mths_since_recent_bc',\n",
       " 'mths_since_recent_bc_dlq',\n",
       " 'mths_since_recent_inq',\n",
       " 'mths_since_recent_revol_delinq',\n",
       " 'num_accts_ever_120_pd',\n",
       " 'num_actv_bc_tl',\n",
       " 'num_actv_rev_tl',\n",
       " 'num_bc_sats',\n",
       " 'num_bc_tl',\n",
       " 'num_il_tl',\n",
       " 'num_op_rev_tl',\n",
       " 'num_rev_accts',\n",
       " 'num_rev_tl_bal_gt_0',\n",
       " 'num_sats',\n",
       " 'num_tl_120dpd_2m',\n",
       " 'num_tl_30dpd',\n",
       " 'num_tl_90g_dpd_24m',\n",
       " 'num_tl_op_past_12m',\n",
       " 'pct_tl_nvr_dlq',\n",
       " 'percent_bc_gt_75',\n",
       " 'tot_hi_cred_lim',\n",
       " 'total_bal_ex_mort',\n",
       " 'total_bc_limit',\n",
       " 'total_il_high_credit_limit',\n",
       " 'revol_bal_joint',\n",
       " 'sec_app_earliest_cr_line',\n",
       " 'sec_app_inq_last_6mths',\n",
       " 'sec_app_mort_acc',\n",
       " 'sec_app_open_acc',\n",
       " 'sec_app_revol_util',\n",
       " 'sec_app_open_act_il',\n",
       " 'sec_app_num_rev_accts',\n",
       " 'sec_app_chargeoff_within_12_mths',\n",
       " 'sec_app_collections_12_mths_ex_med',\n",
       " 'sec_app_mths_since_last_major_derog',\n",
       " 'hardship_flag',\n",
       " 'hardship_type',\n",
       " 'hardship_reason',\n",
       " 'hardship_status',\n",
       " 'deferral_term',\n",
       " 'hardship_amount',\n",
       " 'hardship_start_date',\n",
       " 'hardship_end_date',\n",
       " 'payment_plan_start_date',\n",
       " 'hardship_length',\n",
       " 'hardship_dpd',\n",
       " 'hardship_loan_status',\n",
       " 'orig_projected_additional_accrued_interest',\n",
       " 'hardship_payoff_balance_amount',\n",
       " 'hardship_last_payment_amount',\n",
       " 'disbursement_method',\n",
       " 'debt_settlement_flag_date',\n",
       " 'settlement_status',\n",
       " 'settlement_date',\n",
       " 'settlement_amount',\n",
       " 'settlement_percentage',\n",
       " 'settlement_term']"
      ]
     },
     "execution_count": 445,
     "metadata": {},
     "output_type": "execute_result"
    }
   ],
   "source": [
    "# intializing the coldrop list to store the name of columns which are to be dropped\n",
    "coldrop = []\n",
    "for i, col in enumerate(df.columns):\n",
    "    # append only those columns which have more 40000 nan values or \n",
    "    # if they have only less than two unique value i.e nan and the other value\n",
    "    if len(df[df[col].isnull()]) >= 40000 or len(df[col].unique()) <= 2:\n",
    "        coldrop.append(col)        \n",
    "coldrop"
   ]
  },
  {
   "cell_type": "code",
   "execution_count": 446,
   "metadata": {},
   "outputs": [
    {
     "data": {
      "text/plain": [
       "Index(['loan_amnt', 'funded_amnt', 'funded_amnt_inv', 'term', 'int_rate',\n",
       "       'installment', 'grade', 'sub_grade', 'emp_title', 'emp_length',\n",
       "       'home_ownership', 'annual_inc', 'verification_status', 'issue_d',\n",
       "       'loan_status', 'desc', 'purpose', 'title', 'zip_code', 'addr_state',\n",
       "       'dti', 'delinq_2yrs', 'earliest_cr_line', 'inq_last_6mths',\n",
       "       'mths_since_last_delinq', 'mths_since_last_record', 'open_acc',\n",
       "       'pub_rec', 'revol_bal', 'revol_util', 'total_acc', 'total_pymnt',\n",
       "       'total_pymnt_inv', 'total_rec_prncp', 'total_rec_int',\n",
       "       'total_rec_late_fee', 'recoveries', 'collection_recovery_fee',\n",
       "       'last_pymnt_d', 'last_pymnt_amnt', 'next_pymnt_d', 'last_credit_pull_d',\n",
       "       'acc_now_delinq', 'delinq_amnt', 'pub_rec_bankruptcies', 'tax_liens',\n",
       "       'debt_settlement_flag'],\n",
       "      dtype='object')"
      ]
     },
     "execution_count": 446,
     "metadata": {},
     "output_type": "execute_result"
    }
   ],
   "source": [
    "# dropping the columns specified by coldrop list\n",
    "df = df.drop(coldrop, axis = 1)\n",
    "# dropping the rows in which all columns are null\n",
    "df = df.dropna(how = 'all', axis = 0)\n",
    "df.columns"
   ]
  },
  {
   "cell_type": "code",
   "execution_count": 447,
   "metadata": {},
   "outputs": [
    {
     "data": {
      "text/plain": [
       "US Army                                   139\n",
       "Bank of America                           115\n",
       "IBM                                        72\n",
       "Kaiser Permanente                          61\n",
       "AT&T                                       61\n",
       "                                         ... \n",
       "JAGUAR LABOR CONTRACTING INC                1\n",
       "Saginaw Control and Engineering             1\n",
       "Anderson School District 5/ T.L. Hanna      1\n",
       "Lewis Property Management CO                1\n",
       "Social Security Board                       1\n",
       "Name: emp_title, Length: 30658, dtype: int64"
      ]
     },
     "execution_count": 447,
     "metadata": {},
     "output_type": "execute_result"
    }
   ],
   "source": [
    "# checking the unique values in employee title\n",
    "df.emp_title.value_counts() \n",
    "# Length = 30658; too many unique values so it needs to be dropped so that the model may not overfit"
   ]
  },
  {
   "cell_type": "code",
   "execution_count": 448,
   "metadata": {},
   "outputs": [
    {
     "data": {
      "text/plain": [
       "Index(['loan_amnt', 'funded_amnt', 'funded_amnt_inv', 'term', 'int_rate',\n",
       "       'installment', 'grade', 'sub_grade', 'emp_title', 'emp_length',\n",
       "       'home_ownership', 'annual_inc', 'verification_status', 'issue_d',\n",
       "       'loan_status', 'desc', 'purpose', 'title', 'zip_code', 'addr_state',\n",
       "       'dti', 'delinq_2yrs', 'earliest_cr_line', 'inq_last_6mths',\n",
       "       'mths_since_last_delinq', 'mths_since_last_record', 'open_acc',\n",
       "       'pub_rec', 'revol_bal', 'revol_util', 'total_acc', 'total_pymnt',\n",
       "       'total_pymnt_inv', 'total_rec_prncp', 'total_rec_int',\n",
       "       'total_rec_late_fee', 'recoveries', 'collection_recovery_fee',\n",
       "       'last_pymnt_d', 'last_pymnt_amnt', 'next_pymnt_d', 'last_credit_pull_d',\n",
       "       'acc_now_delinq', 'delinq_amnt', 'pub_rec_bankruptcies', 'tax_liens',\n",
       "       'debt_settlement_flag'],\n",
       "      dtype='object')"
      ]
     },
     "execution_count": 448,
     "metadata": {},
     "output_type": "execute_result"
    }
   ],
   "source": [
    "df.columns"
   ]
  },
  {
   "cell_type": "code",
   "execution_count": 449,
   "metadata": {},
   "outputs": [
    {
     "data": {
      "text/plain": [
       "(debt_consolidation    19776\n",
       " credit_card            5477\n",
       " other                  4425\n",
       " home_improvement       3199\n",
       " major_purchase         2311\n",
       " small_business         1992\n",
       " car                    1615\n",
       " wedding                1004\n",
       " medical                 753\n",
       " moving                  629\n",
       " house                   426\n",
       " educational             422\n",
       " vacation                400\n",
       " renewable_energy        106\n",
       " Name: purpose, dtype: int64,\n",
       " Debt Consolidation                     2259\n",
       " Debt Consolidation Loan                1760\n",
       " Personal Loan                           708\n",
       " Consolidation                           547\n",
       " debt consolidation                      532\n",
       "                                        ... \n",
       " IVF Cycle                                 1\n",
       " Pay off CC's & build new patio area       1\n",
       " A new beginning                           1\n",
       " Patent Purchase                           1\n",
       " Continuing School                         1\n",
       " Name: title, Length: 21256, dtype: int64)"
      ]
     },
     "execution_count": 449,
     "metadata": {},
     "output_type": "execute_result"
    }
   ],
   "source": [
    "df.purpose.value_counts(), df.title.value_counts() \n",
    "# both serve the similar purpose so title can be removed since it has more unique values\n",
    "# length of title = 21256"
   ]
  },
  {
   "cell_type": "code",
   "execution_count": 450,
   "metadata": {},
   "outputs": [
    {
     "data": {
      "text/plain": [
       "(0        860xx\n",
       " 1        309xx\n",
       " 2        606xx\n",
       " 3        917xx\n",
       " 4        972xx\n",
       "          ...  \n",
       " 42533    100xx\n",
       " 42534    021xx\n",
       " 42535    100xx\n",
       " 42536    100xx\n",
       " 42537    068xx\n",
       " Name: zip_code, Length: 42535, dtype: object,\n",
       " 0        AZ\n",
       " 1        GA\n",
       " 2        IL\n",
       " 3        CA\n",
       " 4        OR\n",
       "          ..\n",
       " 42533    NY\n",
       " 42534    MA\n",
       " 42535    NY\n",
       " 42536    NY\n",
       " 42537    CT\n",
       " Name: addr_state, Length: 42535, dtype: object)"
      ]
     },
     "execution_count": 450,
     "metadata": {},
     "output_type": "execute_result"
    }
   ],
   "source": [
    "df.zip_code, df.addr_state \n",
    "# since the state belongs to the higher hierarchy of zip code and has lesser unique values so df.zip_code can be dropped"
   ]
  },
  {
   "cell_type": "code",
   "execution_count": 451,
   "metadata": {},
   "outputs": [
    {
     "data": {
      "text/html": [
       "<div>\n",
       "<style scoped>\n",
       "    .dataframe tbody tr th:only-of-type {\n",
       "        vertical-align: middle;\n",
       "    }\n",
       "\n",
       "    .dataframe tbody tr th {\n",
       "        vertical-align: top;\n",
       "    }\n",
       "\n",
       "    .dataframe thead th {\n",
       "        text-align: right;\n",
       "    }\n",
       "</style>\n",
       "<table border=\"1\" class=\"dataframe\">\n",
       "  <thead>\n",
       "    <tr style=\"text-align: right;\">\n",
       "      <th></th>\n",
       "      <th>loan_amnt</th>\n",
       "      <th>funded_amnt</th>\n",
       "      <th>funded_amnt_inv</th>\n",
       "      <th>installment</th>\n",
       "      <th>annual_inc</th>\n",
       "      <th>dti</th>\n",
       "      <th>delinq_2yrs</th>\n",
       "      <th>inq_last_6mths</th>\n",
       "      <th>mths_since_last_delinq</th>\n",
       "      <th>mths_since_last_record</th>\n",
       "      <th>...</th>\n",
       "      <th>total_rec_prncp</th>\n",
       "      <th>total_rec_int</th>\n",
       "      <th>total_rec_late_fee</th>\n",
       "      <th>recoveries</th>\n",
       "      <th>collection_recovery_fee</th>\n",
       "      <th>last_pymnt_amnt</th>\n",
       "      <th>acc_now_delinq</th>\n",
       "      <th>delinq_amnt</th>\n",
       "      <th>pub_rec_bankruptcies</th>\n",
       "      <th>tax_liens</th>\n",
       "    </tr>\n",
       "  </thead>\n",
       "  <tbody>\n",
       "    <tr>\n",
       "      <th>loan_amnt</th>\n",
       "      <td>1.000000</td>\n",
       "      <td>0.981746</td>\n",
       "      <td>0.929600</td>\n",
       "      <td>0.930869</td>\n",
       "      <td>0.276122</td>\n",
       "      <td>0.065112</td>\n",
       "      <td>-0.032767</td>\n",
       "      <td>-0.030314</td>\n",
       "      <td>0.022833</td>\n",
       "      <td>0.033717</td>\n",
       "      <td>...</td>\n",
       "      <td>0.850882</td>\n",
       "      <td>0.729111</td>\n",
       "      <td>0.043398</td>\n",
       "      <td>0.133074</td>\n",
       "      <td>0.072920</td>\n",
       "      <td>0.447702</td>\n",
       "      <td>-0.005777</td>\n",
       "      <td>-0.003974</td>\n",
       "      <td>-0.037557</td>\n",
       "      <td>-0.005963</td>\n",
       "    </tr>\n",
       "    <tr>\n",
       "      <th>funded_amnt</th>\n",
       "      <td>0.981746</td>\n",
       "      <td>1.000000</td>\n",
       "      <td>0.947527</td>\n",
       "      <td>0.956522</td>\n",
       "      <td>0.272067</td>\n",
       "      <td>0.064821</td>\n",
       "      <td>-0.033421</td>\n",
       "      <td>-0.030048</td>\n",
       "      <td>0.024098</td>\n",
       "      <td>0.025119</td>\n",
       "      <td>...</td>\n",
       "      <td>0.868776</td>\n",
       "      <td>0.736391</td>\n",
       "      <td>0.045791</td>\n",
       "      <td>0.134164</td>\n",
       "      <td>0.075035</td>\n",
       "      <td>0.452262</td>\n",
       "      <td>-0.005627</td>\n",
       "      <td>-0.003938</td>\n",
       "      <td>-0.038855</td>\n",
       "      <td>-0.006001</td>\n",
       "    </tr>\n",
       "    <tr>\n",
       "      <th>funded_amnt_inv</th>\n",
       "      <td>0.929600</td>\n",
       "      <td>0.947527</td>\n",
       "      <td>1.000000</td>\n",
       "      <td>0.890151</td>\n",
       "      <td>0.252329</td>\n",
       "      <td>0.071073</td>\n",
       "      <td>-0.043868</td>\n",
       "      <td>-0.074913</td>\n",
       "      <td>0.104707</td>\n",
       "      <td>0.488968</td>\n",
       "      <td>...</td>\n",
       "      <td>0.841547</td>\n",
       "      <td>0.726552</td>\n",
       "      <td>0.020079</td>\n",
       "      <td>0.115692</td>\n",
       "      <td>0.055754</td>\n",
       "      <td>0.441508</td>\n",
       "      <td>-0.012590</td>\n",
       "      <td>-0.006201</td>\n",
       "      <td>-0.046124</td>\n",
       "      <td>-0.006242</td>\n",
       "    </tr>\n",
       "    <tr>\n",
       "      <th>installment</th>\n",
       "      <td>0.930869</td>\n",
       "      <td>0.956522</td>\n",
       "      <td>0.890151</td>\n",
       "      <td>1.000000</td>\n",
       "      <td>0.278339</td>\n",
       "      <td>0.054948</td>\n",
       "      <td>-0.020096</td>\n",
       "      <td>-0.010882</td>\n",
       "      <td>0.003996</td>\n",
       "      <td>-0.042947</td>\n",
       "      <td>...</td>\n",
       "      <td>0.843359</td>\n",
       "      <td>0.633615</td>\n",
       "      <td>0.057244</td>\n",
       "      <td>0.117829</td>\n",
       "      <td>0.076223</td>\n",
       "      <td>0.400162</td>\n",
       "      <td>-0.004109</td>\n",
       "      <td>-0.003495</td>\n",
       "      <td>-0.033746</td>\n",
       "      <td>-0.005929</td>\n",
       "    </tr>\n",
       "    <tr>\n",
       "      <th>annual_inc</th>\n",
       "      <td>0.276122</td>\n",
       "      <td>0.272067</td>\n",
       "      <td>0.252329</td>\n",
       "      <td>0.278339</td>\n",
       "      <td>1.000000</td>\n",
       "      <td>-0.116559</td>\n",
       "      <td>0.022161</td>\n",
       "      <td>0.027764</td>\n",
       "      <td>-0.000751</td>\n",
       "      <td>-0.002071</td>\n",
       "      <td>...</td>\n",
       "      <td>0.259516</td>\n",
       "      <td>0.187831</td>\n",
       "      <td>0.009743</td>\n",
       "      <td>0.025307</td>\n",
       "      <td>0.017191</td>\n",
       "      <td>0.139387</td>\n",
       "      <td>-0.000926</td>\n",
       "      <td>-0.001809</td>\n",
       "      <td>-0.015437</td>\n",
       "      <td>-0.001828</td>\n",
       "    </tr>\n",
       "    <tr>\n",
       "      <th>dti</th>\n",
       "      <td>0.065112</td>\n",
       "      <td>0.064821</td>\n",
       "      <td>0.071073</td>\n",
       "      <td>0.054948</td>\n",
       "      <td>-0.116559</td>\n",
       "      <td>1.000000</td>\n",
       "      <td>-0.036577</td>\n",
       "      <td>0.014241</td>\n",
       "      <td>0.066960</td>\n",
       "      <td>0.129753</td>\n",
       "      <td>...</td>\n",
       "      <td>0.041432</td>\n",
       "      <td>0.104547</td>\n",
       "      <td>-0.010959</td>\n",
       "      <td>0.022600</td>\n",
       "      <td>0.008587</td>\n",
       "      <td>0.003743</td>\n",
       "      <td>-0.013132</td>\n",
       "      <td>-0.009262</td>\n",
       "      <td>0.008671</td>\n",
       "      <td>-0.003346</td>\n",
       "    </tr>\n",
       "    <tr>\n",
       "      <th>delinq_2yrs</th>\n",
       "      <td>-0.032767</td>\n",
       "      <td>-0.033421</td>\n",
       "      <td>-0.043868</td>\n",
       "      <td>-0.020096</td>\n",
       "      <td>0.022161</td>\n",
       "      <td>-0.036577</td>\n",
       "      <td>1.000000</td>\n",
       "      <td>0.020872</td>\n",
       "      <td>-0.525531</td>\n",
       "      <td>-0.057269</td>\n",
       "      <td>...</td>\n",
       "      <td>-0.038992</td>\n",
       "      <td>0.020130</td>\n",
       "      <td>0.034574</td>\n",
       "      <td>0.012130</td>\n",
       "      <td>0.013637</td>\n",
       "      <td>-0.013937</td>\n",
       "      <td>0.072845</td>\n",
       "      <td>0.121651</td>\n",
       "      <td>0.004708</td>\n",
       "      <td>-0.001452</td>\n",
       "    </tr>\n",
       "    <tr>\n",
       "      <th>inq_last_6mths</th>\n",
       "      <td>-0.030314</td>\n",
       "      <td>-0.030048</td>\n",
       "      <td>-0.074913</td>\n",
       "      <td>-0.010882</td>\n",
       "      <td>0.027764</td>\n",
       "      <td>0.014241</td>\n",
       "      <td>0.020872</td>\n",
       "      <td>1.000000</td>\n",
       "      <td>-0.046555</td>\n",
       "      <td>-0.172404</td>\n",
       "      <td>...</td>\n",
       "      <td>-0.070444</td>\n",
       "      <td>-0.012826</td>\n",
       "      <td>0.061024</td>\n",
       "      <td>0.035907</td>\n",
       "      <td>0.035611</td>\n",
       "      <td>-0.007532</td>\n",
       "      <td>0.002658</td>\n",
       "      <td>0.015604</td>\n",
       "      <td>0.047311</td>\n",
       "      <td>0.022088</td>\n",
       "    </tr>\n",
       "    <tr>\n",
       "      <th>mths_since_last_delinq</th>\n",
       "      <td>0.022833</td>\n",
       "      <td>0.024098</td>\n",
       "      <td>0.104707</td>\n",
       "      <td>0.003996</td>\n",
       "      <td>-0.000751</td>\n",
       "      <td>0.066960</td>\n",
       "      <td>-0.525531</td>\n",
       "      <td>-0.046555</td>\n",
       "      <td>1.000000</td>\n",
       "      <td>0.484924</td>\n",
       "      <td>...</td>\n",
       "      <td>0.030625</td>\n",
       "      <td>0.016429</td>\n",
       "      <td>-0.034576</td>\n",
       "      <td>-0.006925</td>\n",
       "      <td>-0.013082</td>\n",
       "      <td>0.019998</td>\n",
       "      <td>-0.024295</td>\n",
       "      <td>-0.012199</td>\n",
       "      <td>0.018826</td>\n",
       "      <td>-0.012604</td>\n",
       "    </tr>\n",
       "    <tr>\n",
       "      <th>mths_since_last_record</th>\n",
       "      <td>0.033717</td>\n",
       "      <td>0.025119</td>\n",
       "      <td>0.488968</td>\n",
       "      <td>-0.042947</td>\n",
       "      <td>-0.002071</td>\n",
       "      <td>0.129753</td>\n",
       "      <td>-0.057269</td>\n",
       "      <td>-0.172404</td>\n",
       "      <td>0.484924</td>\n",
       "      <td>1.000000</td>\n",
       "      <td>...</td>\n",
       "      <td>0.023001</td>\n",
       "      <td>0.153132</td>\n",
       "      <td>-0.113309</td>\n",
       "      <td>-0.016713</td>\n",
       "      <td>-0.032637</td>\n",
       "      <td>0.106484</td>\n",
       "      <td>-0.035999</td>\n",
       "      <td>-0.020779</td>\n",
       "      <td>0.821834</td>\n",
       "      <td>0.020230</td>\n",
       "    </tr>\n",
       "    <tr>\n",
       "      <th>open_acc</th>\n",
       "      <td>0.176525</td>\n",
       "      <td>0.174705</td>\n",
       "      <td>0.156361</td>\n",
       "      <td>0.175349</td>\n",
       "      <td>0.168129</td>\n",
       "      <td>0.297951</td>\n",
       "      <td>0.014247</td>\n",
       "      <td>0.095042</td>\n",
       "      <td>0.036091</td>\n",
       "      <td>0.039961</td>\n",
       "      <td>...</td>\n",
       "      <td>0.157047</td>\n",
       "      <td>0.124281</td>\n",
       "      <td>-0.013484</td>\n",
       "      <td>0.016245</td>\n",
       "      <td>0.005750</td>\n",
       "      <td>0.074552</td>\n",
       "      <td>-0.004518</td>\n",
       "      <td>-0.002497</td>\n",
       "      <td>0.009678</td>\n",
       "      <td>-0.002533</td>\n",
       "    </tr>\n",
       "    <tr>\n",
       "      <th>pub_rec</th>\n",
       "      <td>-0.051636</td>\n",
       "      <td>-0.052625</td>\n",
       "      <td>-0.055742</td>\n",
       "      <td>-0.045850</td>\n",
       "      <td>-0.016348</td>\n",
       "      <td>-0.002854</td>\n",
       "      <td>0.010305</td>\n",
       "      <td>0.059533</td>\n",
       "      <td>0.057428</td>\n",
       "      <td>0.816140</td>\n",
       "      <td>...</td>\n",
       "      <td>-0.066279</td>\n",
       "      <td>-0.008746</td>\n",
       "      <td>-0.000151</td>\n",
       "      <td>-0.002172</td>\n",
       "      <td>-0.000811</td>\n",
       "      <td>-0.033085</td>\n",
       "      <td>-0.002296</td>\n",
       "      <td>-0.001153</td>\n",
       "      <td>0.841454</td>\n",
       "      <td>0.018610</td>\n",
       "    </tr>\n",
       "    <tr>\n",
       "      <th>revol_bal</th>\n",
       "      <td>0.254293</td>\n",
       "      <td>0.250313</td>\n",
       "      <td>0.212346</td>\n",
       "      <td>0.264837</td>\n",
       "      <td>0.283593</td>\n",
       "      <td>0.190727</td>\n",
       "      <td>-0.043068</td>\n",
       "      <td>0.007963</td>\n",
       "      <td>-0.007006</td>\n",
       "      <td>-0.108306</td>\n",
       "      <td>...</td>\n",
       "      <td>0.213239</td>\n",
       "      <td>0.180223</td>\n",
       "      <td>0.011079</td>\n",
       "      <td>0.030000</td>\n",
       "      <td>0.014545</td>\n",
       "      <td>0.084542</td>\n",
       "      <td>-0.006116</td>\n",
       "      <td>-0.003137</td>\n",
       "      <td>-0.039378</td>\n",
       "      <td>-0.002801</td>\n",
       "    </tr>\n",
       "    <tr>\n",
       "      <th>total_acc</th>\n",
       "      <td>0.256931</td>\n",
       "      <td>0.251134</td>\n",
       "      <td>0.240858</td>\n",
       "      <td>0.233905</td>\n",
       "      <td>0.246163</td>\n",
       "      <td>0.241306</td>\n",
       "      <td>0.068529</td>\n",
       "      <td>0.092396</td>\n",
       "      <td>0.037227</td>\n",
       "      <td>0.136918</td>\n",
       "      <td>...</td>\n",
       "      <td>0.229223</td>\n",
       "      <td>0.150285</td>\n",
       "      <td>-0.022265</td>\n",
       "      <td>0.023596</td>\n",
       "      <td>0.010925</td>\n",
       "      <td>0.159721</td>\n",
       "      <td>-0.006590</td>\n",
       "      <td>-0.000474</td>\n",
       "      <td>-0.003934</td>\n",
       "      <td>-0.006341</td>\n",
       "    </tr>\n",
       "    <tr>\n",
       "      <th>total_pymnt</th>\n",
       "      <td>0.882845</td>\n",
       "      <td>0.898986</td>\n",
       "      <td>0.873398</td>\n",
       "      <td>0.848603</td>\n",
       "      <td>0.258207</td>\n",
       "      <td>0.063906</td>\n",
       "      <td>-0.023731</td>\n",
       "      <td>-0.055727</td>\n",
       "      <td>0.027708</td>\n",
       "      <td>0.058753</td>\n",
       "      <td>...</td>\n",
       "      <td>0.972464</td>\n",
       "      <td>0.836638</td>\n",
       "      <td>0.017012</td>\n",
       "      <td>0.029508</td>\n",
       "      <td>0.028461</td>\n",
       "      <td>0.467033</td>\n",
       "      <td>-0.003842</td>\n",
       "      <td>-0.003107</td>\n",
       "      <td>-0.045364</td>\n",
       "      <td>-0.005120</td>\n",
       "    </tr>\n",
       "    <tr>\n",
       "      <th>total_pymnt_inv</th>\n",
       "      <td>0.844184</td>\n",
       "      <td>0.860074</td>\n",
       "      <td>0.913004</td>\n",
       "      <td>0.799640</td>\n",
       "      <td>0.243244</td>\n",
       "      <td>0.068960</td>\n",
       "      <td>-0.033642</td>\n",
       "      <td>-0.085338</td>\n",
       "      <td>0.089748</td>\n",
       "      <td>0.429334</td>\n",
       "      <td>...</td>\n",
       "      <td>0.935183</td>\n",
       "      <td>0.819351</td>\n",
       "      <td>-0.001808</td>\n",
       "      <td>0.018705</td>\n",
       "      <td>0.014778</td>\n",
       "      <td>0.453462</td>\n",
       "      <td>-0.010977</td>\n",
       "      <td>-0.005390</td>\n",
       "      <td>-0.050327</td>\n",
       "      <td>-0.005436</td>\n",
       "    </tr>\n",
       "    <tr>\n",
       "      <th>total_rec_prncp</th>\n",
       "      <td>0.850882</td>\n",
       "      <td>0.868776</td>\n",
       "      <td>0.841547</td>\n",
       "      <td>0.843359</td>\n",
       "      <td>0.259516</td>\n",
       "      <td>0.041432</td>\n",
       "      <td>-0.038992</td>\n",
       "      <td>-0.070444</td>\n",
       "      <td>0.030625</td>\n",
       "      <td>0.023001</td>\n",
       "      <td>...</td>\n",
       "      <td>1.000000</td>\n",
       "      <td>0.699130</td>\n",
       "      <td>-0.016079</td>\n",
       "      <td>-0.093320</td>\n",
       "      <td>-0.061129</td>\n",
       "      <td>0.535175</td>\n",
       "      <td>-0.004094</td>\n",
       "      <td>-0.003174</td>\n",
       "      <td>-0.055960</td>\n",
       "      <td>-0.005251</td>\n",
       "    </tr>\n",
       "    <tr>\n",
       "      <th>total_rec_int</th>\n",
       "      <td>0.729111</td>\n",
       "      <td>0.736391</td>\n",
       "      <td>0.726552</td>\n",
       "      <td>0.633615</td>\n",
       "      <td>0.187831</td>\n",
       "      <td>0.104547</td>\n",
       "      <td>0.020130</td>\n",
       "      <td>-0.012826</td>\n",
       "      <td>0.016429</td>\n",
       "      <td>0.153132</td>\n",
       "      <td>...</td>\n",
       "      <td>0.699130</td>\n",
       "      <td>1.000000</td>\n",
       "      <td>0.073934</td>\n",
       "      <td>0.075406</td>\n",
       "      <td>0.034466</td>\n",
       "      <td>0.192052</td>\n",
       "      <td>-0.001871</td>\n",
       "      <td>-0.002007</td>\n",
       "      <td>-0.005105</td>\n",
       "      <td>-0.003383</td>\n",
       "    </tr>\n",
       "    <tr>\n",
       "      <th>total_rec_late_fee</th>\n",
       "      <td>0.043398</td>\n",
       "      <td>0.045791</td>\n",
       "      <td>0.020079</td>\n",
       "      <td>0.057244</td>\n",
       "      <td>0.009743</td>\n",
       "      <td>-0.010959</td>\n",
       "      <td>0.034574</td>\n",
       "      <td>0.061024</td>\n",
       "      <td>-0.034576</td>\n",
       "      <td>-0.113309</td>\n",
       "      <td>...</td>\n",
       "      <td>-0.016079</td>\n",
       "      <td>0.073934</td>\n",
       "      <td>1.000000</td>\n",
       "      <td>0.095153</td>\n",
       "      <td>0.090321</td>\n",
       "      <td>-0.063890</td>\n",
       "      <td>-0.001880</td>\n",
       "      <td>-0.000944</td>\n",
       "      <td>-0.006021</td>\n",
       "      <td>-0.000940</td>\n",
       "    </tr>\n",
       "    <tr>\n",
       "      <th>recoveries</th>\n",
       "      <td>0.133074</td>\n",
       "      <td>0.134164</td>\n",
       "      <td>0.115692</td>\n",
       "      <td>0.117829</td>\n",
       "      <td>0.025307</td>\n",
       "      <td>0.022600</td>\n",
       "      <td>0.012130</td>\n",
       "      <td>0.035907</td>\n",
       "      <td>-0.006925</td>\n",
       "      <td>-0.016713</td>\n",
       "      <td>...</td>\n",
       "      <td>-0.093320</td>\n",
       "      <td>0.075406</td>\n",
       "      <td>0.095153</td>\n",
       "      <td>1.000000</td>\n",
       "      <td>0.820076</td>\n",
       "      <td>-0.069667</td>\n",
       "      <td>-0.001358</td>\n",
       "      <td>-0.000682</td>\n",
       "      <td>-0.002972</td>\n",
       "      <td>-0.000680</td>\n",
       "    </tr>\n",
       "    <tr>\n",
       "      <th>collection_recovery_fee</th>\n",
       "      <td>0.072920</td>\n",
       "      <td>0.075035</td>\n",
       "      <td>0.055754</td>\n",
       "      <td>0.076223</td>\n",
       "      <td>0.017191</td>\n",
       "      <td>0.008587</td>\n",
       "      <td>0.013637</td>\n",
       "      <td>0.035611</td>\n",
       "      <td>-0.013082</td>\n",
       "      <td>-0.032637</td>\n",
       "      <td>...</td>\n",
       "      <td>-0.061129</td>\n",
       "      <td>0.034466</td>\n",
       "      <td>0.090321</td>\n",
       "      <td>0.820076</td>\n",
       "      <td>1.000000</td>\n",
       "      <td>-0.043895</td>\n",
       "      <td>-0.000859</td>\n",
       "      <td>-0.000432</td>\n",
       "      <td>-0.003075</td>\n",
       "      <td>-0.000430</td>\n",
       "    </tr>\n",
       "    <tr>\n",
       "      <th>last_pymnt_amnt</th>\n",
       "      <td>0.447702</td>\n",
       "      <td>0.452262</td>\n",
       "      <td>0.441508</td>\n",
       "      <td>0.400162</td>\n",
       "      <td>0.139387</td>\n",
       "      <td>0.003743</td>\n",
       "      <td>-0.013937</td>\n",
       "      <td>-0.007532</td>\n",
       "      <td>0.019998</td>\n",
       "      <td>0.106484</td>\n",
       "      <td>...</td>\n",
       "      <td>0.535175</td>\n",
       "      <td>0.192052</td>\n",
       "      <td>-0.063890</td>\n",
       "      <td>-0.069667</td>\n",
       "      <td>-0.043895</td>\n",
       "      <td>1.000000</td>\n",
       "      <td>-0.005276</td>\n",
       "      <td>-0.002897</td>\n",
       "      <td>-0.023337</td>\n",
       "      <td>-0.002819</td>\n",
       "    </tr>\n",
       "    <tr>\n",
       "      <th>acc_now_delinq</th>\n",
       "      <td>-0.005777</td>\n",
       "      <td>-0.005627</td>\n",
       "      <td>-0.012590</td>\n",
       "      <td>-0.004109</td>\n",
       "      <td>-0.000926</td>\n",
       "      <td>-0.013132</td>\n",
       "      <td>0.072845</td>\n",
       "      <td>0.002658</td>\n",
       "      <td>-0.024295</td>\n",
       "      <td>-0.035999</td>\n",
       "      <td>...</td>\n",
       "      <td>-0.004094</td>\n",
       "      <td>-0.001871</td>\n",
       "      <td>-0.001880</td>\n",
       "      <td>-0.001358</td>\n",
       "      <td>-0.000859</td>\n",
       "      <td>-0.005276</td>\n",
       "      <td>1.000000</td>\n",
       "      <td>0.502208</td>\n",
       "      <td>NaN</td>\n",
       "      <td>-0.000041</td>\n",
       "    </tr>\n",
       "    <tr>\n",
       "      <th>delinq_amnt</th>\n",
       "      <td>-0.003974</td>\n",
       "      <td>-0.003938</td>\n",
       "      <td>-0.006201</td>\n",
       "      <td>-0.003495</td>\n",
       "      <td>-0.001809</td>\n",
       "      <td>-0.009262</td>\n",
       "      <td>0.121651</td>\n",
       "      <td>0.015604</td>\n",
       "      <td>-0.012199</td>\n",
       "      <td>-0.020779</td>\n",
       "      <td>...</td>\n",
       "      <td>-0.003174</td>\n",
       "      <td>-0.002007</td>\n",
       "      <td>-0.000944</td>\n",
       "      <td>-0.000682</td>\n",
       "      <td>-0.000432</td>\n",
       "      <td>-0.002897</td>\n",
       "      <td>0.502208</td>\n",
       "      <td>1.000000</td>\n",
       "      <td>NaN</td>\n",
       "      <td>-0.000024</td>\n",
       "    </tr>\n",
       "    <tr>\n",
       "      <th>pub_rec_bankruptcies</th>\n",
       "      <td>-0.037557</td>\n",
       "      <td>-0.038855</td>\n",
       "      <td>-0.046124</td>\n",
       "      <td>-0.033746</td>\n",
       "      <td>-0.015437</td>\n",
       "      <td>0.008671</td>\n",
       "      <td>0.004708</td>\n",
       "      <td>0.047311</td>\n",
       "      <td>0.018826</td>\n",
       "      <td>0.821834</td>\n",
       "      <td>...</td>\n",
       "      <td>-0.055960</td>\n",
       "      <td>-0.005105</td>\n",
       "      <td>-0.006021</td>\n",
       "      <td>-0.002972</td>\n",
       "      <td>-0.003075</td>\n",
       "      <td>-0.023337</td>\n",
       "      <td>NaN</td>\n",
       "      <td>NaN</td>\n",
       "      <td>1.000000</td>\n",
       "      <td>NaN</td>\n",
       "    </tr>\n",
       "    <tr>\n",
       "      <th>tax_liens</th>\n",
       "      <td>-0.005963</td>\n",
       "      <td>-0.006001</td>\n",
       "      <td>-0.006242</td>\n",
       "      <td>-0.005929</td>\n",
       "      <td>-0.001828</td>\n",
       "      <td>-0.003346</td>\n",
       "      <td>-0.001452</td>\n",
       "      <td>0.022088</td>\n",
       "      <td>-0.012604</td>\n",
       "      <td>0.020230</td>\n",
       "      <td>...</td>\n",
       "      <td>-0.005251</td>\n",
       "      <td>-0.003383</td>\n",
       "      <td>-0.000940</td>\n",
       "      <td>-0.000680</td>\n",
       "      <td>-0.000430</td>\n",
       "      <td>-0.002819</td>\n",
       "      <td>-0.000041</td>\n",
       "      <td>-0.000024</td>\n",
       "      <td>NaN</td>\n",
       "      <td>1.000000</td>\n",
       "    </tr>\n",
       "  </tbody>\n",
       "</table>\n",
       "<p>26 rows × 26 columns</p>\n",
       "</div>"
      ],
      "text/plain": [
       "                         loan_amnt  funded_amnt  funded_amnt_inv  installment  \\\n",
       "loan_amnt                 1.000000     0.981746         0.929600     0.930869   \n",
       "funded_amnt               0.981746     1.000000         0.947527     0.956522   \n",
       "funded_amnt_inv           0.929600     0.947527         1.000000     0.890151   \n",
       "installment               0.930869     0.956522         0.890151     1.000000   \n",
       "annual_inc                0.276122     0.272067         0.252329     0.278339   \n",
       "dti                       0.065112     0.064821         0.071073     0.054948   \n",
       "delinq_2yrs              -0.032767    -0.033421        -0.043868    -0.020096   \n",
       "inq_last_6mths           -0.030314    -0.030048        -0.074913    -0.010882   \n",
       "mths_since_last_delinq    0.022833     0.024098         0.104707     0.003996   \n",
       "mths_since_last_record    0.033717     0.025119         0.488968    -0.042947   \n",
       "open_acc                  0.176525     0.174705         0.156361     0.175349   \n",
       "pub_rec                  -0.051636    -0.052625        -0.055742    -0.045850   \n",
       "revol_bal                 0.254293     0.250313         0.212346     0.264837   \n",
       "total_acc                 0.256931     0.251134         0.240858     0.233905   \n",
       "total_pymnt               0.882845     0.898986         0.873398     0.848603   \n",
       "total_pymnt_inv           0.844184     0.860074         0.913004     0.799640   \n",
       "total_rec_prncp           0.850882     0.868776         0.841547     0.843359   \n",
       "total_rec_int             0.729111     0.736391         0.726552     0.633615   \n",
       "total_rec_late_fee        0.043398     0.045791         0.020079     0.057244   \n",
       "recoveries                0.133074     0.134164         0.115692     0.117829   \n",
       "collection_recovery_fee   0.072920     0.075035         0.055754     0.076223   \n",
       "last_pymnt_amnt           0.447702     0.452262         0.441508     0.400162   \n",
       "acc_now_delinq           -0.005777    -0.005627        -0.012590    -0.004109   \n",
       "delinq_amnt              -0.003974    -0.003938        -0.006201    -0.003495   \n",
       "pub_rec_bankruptcies     -0.037557    -0.038855        -0.046124    -0.033746   \n",
       "tax_liens                -0.005963    -0.006001        -0.006242    -0.005929   \n",
       "\n",
       "                         annual_inc       dti  delinq_2yrs  inq_last_6mths  \\\n",
       "loan_amnt                  0.276122  0.065112    -0.032767       -0.030314   \n",
       "funded_amnt                0.272067  0.064821    -0.033421       -0.030048   \n",
       "funded_amnt_inv            0.252329  0.071073    -0.043868       -0.074913   \n",
       "installment                0.278339  0.054948    -0.020096       -0.010882   \n",
       "annual_inc                 1.000000 -0.116559     0.022161        0.027764   \n",
       "dti                       -0.116559  1.000000    -0.036577        0.014241   \n",
       "delinq_2yrs                0.022161 -0.036577     1.000000        0.020872   \n",
       "inq_last_6mths             0.027764  0.014241     0.020872        1.000000   \n",
       "mths_since_last_delinq    -0.000751  0.066960    -0.525531       -0.046555   \n",
       "mths_since_last_record    -0.002071  0.129753    -0.057269       -0.172404   \n",
       "open_acc                   0.168129  0.297951     0.014247        0.095042   \n",
       "pub_rec                   -0.016348 -0.002854     0.010305        0.059533   \n",
       "revol_bal                  0.283593  0.190727    -0.043068        0.007963   \n",
       "total_acc                  0.246163  0.241306     0.068529        0.092396   \n",
       "total_pymnt                0.258207  0.063906    -0.023731       -0.055727   \n",
       "total_pymnt_inv            0.243244  0.068960    -0.033642       -0.085338   \n",
       "total_rec_prncp            0.259516  0.041432    -0.038992       -0.070444   \n",
       "total_rec_int              0.187831  0.104547     0.020130       -0.012826   \n",
       "total_rec_late_fee         0.009743 -0.010959     0.034574        0.061024   \n",
       "recoveries                 0.025307  0.022600     0.012130        0.035907   \n",
       "collection_recovery_fee    0.017191  0.008587     0.013637        0.035611   \n",
       "last_pymnt_amnt            0.139387  0.003743    -0.013937       -0.007532   \n",
       "acc_now_delinq            -0.000926 -0.013132     0.072845        0.002658   \n",
       "delinq_amnt               -0.001809 -0.009262     0.121651        0.015604   \n",
       "pub_rec_bankruptcies      -0.015437  0.008671     0.004708        0.047311   \n",
       "tax_liens                 -0.001828 -0.003346    -0.001452        0.022088   \n",
       "\n",
       "                         mths_since_last_delinq  mths_since_last_record  ...  \\\n",
       "loan_amnt                              0.022833                0.033717  ...   \n",
       "funded_amnt                            0.024098                0.025119  ...   \n",
       "funded_amnt_inv                        0.104707                0.488968  ...   \n",
       "installment                            0.003996               -0.042947  ...   \n",
       "annual_inc                            -0.000751               -0.002071  ...   \n",
       "dti                                    0.066960                0.129753  ...   \n",
       "delinq_2yrs                           -0.525531               -0.057269  ...   \n",
       "inq_last_6mths                        -0.046555               -0.172404  ...   \n",
       "mths_since_last_delinq                 1.000000                0.484924  ...   \n",
       "mths_since_last_record                 0.484924                1.000000  ...   \n",
       "open_acc                               0.036091                0.039961  ...   \n",
       "pub_rec                                0.057428                0.816140  ...   \n",
       "revol_bal                             -0.007006               -0.108306  ...   \n",
       "total_acc                              0.037227                0.136918  ...   \n",
       "total_pymnt                            0.027708                0.058753  ...   \n",
       "total_pymnt_inv                        0.089748                0.429334  ...   \n",
       "total_rec_prncp                        0.030625                0.023001  ...   \n",
       "total_rec_int                          0.016429                0.153132  ...   \n",
       "total_rec_late_fee                    -0.034576               -0.113309  ...   \n",
       "recoveries                            -0.006925               -0.016713  ...   \n",
       "collection_recovery_fee               -0.013082               -0.032637  ...   \n",
       "last_pymnt_amnt                        0.019998                0.106484  ...   \n",
       "acc_now_delinq                        -0.024295               -0.035999  ...   \n",
       "delinq_amnt                           -0.012199               -0.020779  ...   \n",
       "pub_rec_bankruptcies                   0.018826                0.821834  ...   \n",
       "tax_liens                             -0.012604                0.020230  ...   \n",
       "\n",
       "                         total_rec_prncp  total_rec_int  total_rec_late_fee  \\\n",
       "loan_amnt                       0.850882       0.729111            0.043398   \n",
       "funded_amnt                     0.868776       0.736391            0.045791   \n",
       "funded_amnt_inv                 0.841547       0.726552            0.020079   \n",
       "installment                     0.843359       0.633615            0.057244   \n",
       "annual_inc                      0.259516       0.187831            0.009743   \n",
       "dti                             0.041432       0.104547           -0.010959   \n",
       "delinq_2yrs                    -0.038992       0.020130            0.034574   \n",
       "inq_last_6mths                 -0.070444      -0.012826            0.061024   \n",
       "mths_since_last_delinq          0.030625       0.016429           -0.034576   \n",
       "mths_since_last_record          0.023001       0.153132           -0.113309   \n",
       "open_acc                        0.157047       0.124281           -0.013484   \n",
       "pub_rec                        -0.066279      -0.008746           -0.000151   \n",
       "revol_bal                       0.213239       0.180223            0.011079   \n",
       "total_acc                       0.229223       0.150285           -0.022265   \n",
       "total_pymnt                     0.972464       0.836638            0.017012   \n",
       "total_pymnt_inv                 0.935183       0.819351           -0.001808   \n",
       "total_rec_prncp                 1.000000       0.699130           -0.016079   \n",
       "total_rec_int                   0.699130       1.000000            0.073934   \n",
       "total_rec_late_fee             -0.016079       0.073934            1.000000   \n",
       "recoveries                     -0.093320       0.075406            0.095153   \n",
       "collection_recovery_fee        -0.061129       0.034466            0.090321   \n",
       "last_pymnt_amnt                 0.535175       0.192052           -0.063890   \n",
       "acc_now_delinq                 -0.004094      -0.001871           -0.001880   \n",
       "delinq_amnt                    -0.003174      -0.002007           -0.000944   \n",
       "pub_rec_bankruptcies           -0.055960      -0.005105           -0.006021   \n",
       "tax_liens                      -0.005251      -0.003383           -0.000940   \n",
       "\n",
       "                         recoveries  collection_recovery_fee  last_pymnt_amnt  \\\n",
       "loan_amnt                  0.133074                 0.072920         0.447702   \n",
       "funded_amnt                0.134164                 0.075035         0.452262   \n",
       "funded_amnt_inv            0.115692                 0.055754         0.441508   \n",
       "installment                0.117829                 0.076223         0.400162   \n",
       "annual_inc                 0.025307                 0.017191         0.139387   \n",
       "dti                        0.022600                 0.008587         0.003743   \n",
       "delinq_2yrs                0.012130                 0.013637        -0.013937   \n",
       "inq_last_6mths             0.035907                 0.035611        -0.007532   \n",
       "mths_since_last_delinq    -0.006925                -0.013082         0.019998   \n",
       "mths_since_last_record    -0.016713                -0.032637         0.106484   \n",
       "open_acc                   0.016245                 0.005750         0.074552   \n",
       "pub_rec                   -0.002172                -0.000811        -0.033085   \n",
       "revol_bal                  0.030000                 0.014545         0.084542   \n",
       "total_acc                  0.023596                 0.010925         0.159721   \n",
       "total_pymnt                0.029508                 0.028461         0.467033   \n",
       "total_pymnt_inv            0.018705                 0.014778         0.453462   \n",
       "total_rec_prncp           -0.093320                -0.061129         0.535175   \n",
       "total_rec_int              0.075406                 0.034466         0.192052   \n",
       "total_rec_late_fee         0.095153                 0.090321        -0.063890   \n",
       "recoveries                 1.000000                 0.820076        -0.069667   \n",
       "collection_recovery_fee    0.820076                 1.000000        -0.043895   \n",
       "last_pymnt_amnt           -0.069667                -0.043895         1.000000   \n",
       "acc_now_delinq            -0.001358                -0.000859        -0.005276   \n",
       "delinq_amnt               -0.000682                -0.000432        -0.002897   \n",
       "pub_rec_bankruptcies      -0.002972                -0.003075        -0.023337   \n",
       "tax_liens                 -0.000680                -0.000430        -0.002819   \n",
       "\n",
       "                         acc_now_delinq  delinq_amnt  pub_rec_bankruptcies  \\\n",
       "loan_amnt                     -0.005777    -0.003974             -0.037557   \n",
       "funded_amnt                   -0.005627    -0.003938             -0.038855   \n",
       "funded_amnt_inv               -0.012590    -0.006201             -0.046124   \n",
       "installment                   -0.004109    -0.003495             -0.033746   \n",
       "annual_inc                    -0.000926    -0.001809             -0.015437   \n",
       "dti                           -0.013132    -0.009262              0.008671   \n",
       "delinq_2yrs                    0.072845     0.121651              0.004708   \n",
       "inq_last_6mths                 0.002658     0.015604              0.047311   \n",
       "mths_since_last_delinq        -0.024295    -0.012199              0.018826   \n",
       "mths_since_last_record        -0.035999    -0.020779              0.821834   \n",
       "open_acc                      -0.004518    -0.002497              0.009678   \n",
       "pub_rec                       -0.002296    -0.001153              0.841454   \n",
       "revol_bal                     -0.006116    -0.003137             -0.039378   \n",
       "total_acc                     -0.006590    -0.000474             -0.003934   \n",
       "total_pymnt                   -0.003842    -0.003107             -0.045364   \n",
       "total_pymnt_inv               -0.010977    -0.005390             -0.050327   \n",
       "total_rec_prncp               -0.004094    -0.003174             -0.055960   \n",
       "total_rec_int                 -0.001871    -0.002007             -0.005105   \n",
       "total_rec_late_fee            -0.001880    -0.000944             -0.006021   \n",
       "recoveries                    -0.001358    -0.000682             -0.002972   \n",
       "collection_recovery_fee       -0.000859    -0.000432             -0.003075   \n",
       "last_pymnt_amnt               -0.005276    -0.002897             -0.023337   \n",
       "acc_now_delinq                 1.000000     0.502208                   NaN   \n",
       "delinq_amnt                    0.502208     1.000000                   NaN   \n",
       "pub_rec_bankruptcies                NaN          NaN              1.000000   \n",
       "tax_liens                     -0.000041    -0.000024                   NaN   \n",
       "\n",
       "                         tax_liens  \n",
       "loan_amnt                -0.005963  \n",
       "funded_amnt              -0.006001  \n",
       "funded_amnt_inv          -0.006242  \n",
       "installment              -0.005929  \n",
       "annual_inc               -0.001828  \n",
       "dti                      -0.003346  \n",
       "delinq_2yrs              -0.001452  \n",
       "inq_last_6mths            0.022088  \n",
       "mths_since_last_delinq   -0.012604  \n",
       "mths_since_last_record    0.020230  \n",
       "open_acc                 -0.002533  \n",
       "pub_rec                   0.018610  \n",
       "revol_bal                -0.002801  \n",
       "total_acc                -0.006341  \n",
       "total_pymnt              -0.005120  \n",
       "total_pymnt_inv          -0.005436  \n",
       "total_rec_prncp          -0.005251  \n",
       "total_rec_int            -0.003383  \n",
       "total_rec_late_fee       -0.000940  \n",
       "recoveries               -0.000680  \n",
       "collection_recovery_fee  -0.000430  \n",
       "last_pymnt_amnt          -0.002819  \n",
       "acc_now_delinq           -0.000041  \n",
       "delinq_amnt              -0.000024  \n",
       "pub_rec_bankruptcies           NaN  \n",
       "tax_liens                 1.000000  \n",
       "\n",
       "[26 rows x 26 columns]"
      ]
     },
     "execution_count": 451,
     "metadata": {},
     "output_type": "execute_result"
    }
   ],
   "source": [
    "# visualizing corrrelation between variables\n",
    "df.corr()"
   ]
  },
  {
   "cell_type": "code",
   "execution_count": 452,
   "metadata": {},
   "outputs": [
    {
     "data": {
      "text/plain": [
       "30"
      ]
     },
     "execution_count": 452,
     "metadata": {},
     "output_type": "execute_result"
    }
   ],
   "source": [
    "# dropping all columns which are multicollinear; having variables with each other relating more than 70%\n",
    "# dropping the columns which were discussed above for e.g, title, emp_title and zip_code\n",
    "df = df.drop(columns = ['funded_amnt', 'funded_amnt_inv', 'installment', 'total_pymnt', 'total_pymnt_inv',\n",
    "                        'total_rec_prncp', 'total_rec_int', 'pub_rec', 'desc', 'delinq_amnt', 'tax_liens',\n",
    "                        'pub_rec_bankruptcies', 'collection_recovery_fee', 'last_pymnt_d', 'title', 'emp_title', 'zip_code'],\n",
    "             axis = 1)\n",
    "# checking the number of columns in the dataset\n",
    "len(df.columns)"
   ]
  },
  {
   "cell_type": "code",
   "execution_count": 453,
   "metadata": {},
   "outputs": [
    {
     "data": {
      "text/plain": [
       "<matplotlib.axes._subplots.AxesSubplot at 0x11c032eff08>"
      ]
     },
     "execution_count": 453,
     "metadata": {},
     "output_type": "execute_result"
    },
    {
     "data": {
      "image/png": "[encoded data removed]",
      "text/plain": [
       "<Figure size 1080x864 with 2 Axes>"
      ]
     },
     "metadata": {
      "needs_background": "light"
     },
     "output_type": "display_data"
    }
   ],
   "source": [
    "# visualizing the heatmap\n",
    "plt.figure(figsize = (15, 12))\n",
    "sns.heatmap(df.corr(), cmap = 'Blues', annot = True)"
   ]
  },
  {
   "cell_type": "code",
   "execution_count": 454,
   "metadata": {},
   "outputs": [],
   "source": [
    "# filling all nan values with mode (most occuring value), can be used for both categorical and numerical data\n",
    "df = df.fillna(df.mode().iloc[0])"
   ]
  },
  {
   "cell_type": "code",
   "execution_count": 455,
   "metadata": {},
   "outputs": [],
   "source": [
    "# The loan_status had 4 unique values but could be reduced to 2 since 'does not meet credit policy could be removed'\n",
    "df.loan_status = df.loan_status.apply(lambda x: 'Fully Paid' if (x == 'Does not meet the credit policy. Status:Fully Paid' \n",
    "                                                   or x == 'Fully Paid')  else 'Charged Off')\n",
    "# stripping % sign from both revol_util and interest_rate\n",
    "df.revol_util = df.revol_util.apply(lambda x: x.strip('%'))\n",
    "df.int_rate = df.int_rate.apply(lambda x: x.strip('%'))\n",
    "# if emp_length is greater than 10 years replace it with 11 years and if less than 1 then replace it with 0\n",
    "df.emp_length = df.emp_length.apply(lambda x: '11 years' if x == '10+ years' else x)\n",
    "df.emp_length = df.emp_length.apply(lambda x: '0 years' if x == '< 1 year' else x)\n",
    "# replacing NONE with OTHER due to redundancy \n",
    "df.home_ownership = df.home_ownership.apply(lambda x: 'OTHER' if x == 'NONE' else x)\n",
    "# only storing the numerical value in years in emp_length; removing the 'years' string\n",
    "df.emp_length = df.emp_length.apply(lambda x: str(x).split(' ')[0])\n",
    "# only considering the year of issuing date of loan and the rest\n",
    "df.issue_d = df.issue_d.apply(lambda x: str(x).split('-')[1])\n",
    "df.earliest_cr_line = df.earliest_cr_line.apply(lambda x: str(x).split('-')[1])\n",
    "df.next_pymnt_d = df.next_pymnt_d.apply(lambda x: str(x).split('-')[1])\n",
    "df.last_credit_pull_d = df.last_credit_pull_d.apply(lambda x: str(x).split('-')[1])"
   ]
  },
  {
   "cell_type": "code",
   "execution_count": 456,
   "metadata": {},
   "outputs": [],
   "source": [
    "# changing the type of columns of the dataframe\n",
    "df.int_rate = df.int_rate.astype('float')\n",
    "df.emp_length = df.emp_length.astype('int')\n",
    "df.revol_util = df.revol_util.astype('float')"
   ]
  },
  {
   "cell_type": "code",
   "execution_count": 457,
   "metadata": {},
   "outputs": [
    {
     "name": "stdout",
     "output_type": "stream",
     "text": [
      "<class 'pandas.core.frame.DataFrame'>\n",
      "Int64Index: 42535 entries, 0 to 42537\n",
      "Data columns (total 30 columns):\n",
      " #   Column                  Non-Null Count  Dtype  \n",
      "---  ------                  --------------  -----  \n",
      " 0   loan_amnt               42535 non-null  float64\n",
      " 1   term                    42535 non-null  object \n",
      " 2   int_rate                42535 non-null  float64\n",
      " 3   grade                   42535 non-null  object \n",
      " 4   sub_grade               42535 non-null  object \n",
      " 5   emp_length              42535 non-null  int32  \n",
      " 6   home_ownership          42535 non-null  object \n",
      " 7   annual_inc              42535 non-null  float64\n",
      " 8   verification_status     42535 non-null  object \n",
      " 9   issue_d                 42535 non-null  object \n",
      " 10  loan_status             42535 non-null  object \n",
      " 11  purpose                 42535 non-null  object \n",
      " 12  addr_state              42535 non-null  object \n",
      " 13  dti                     42535 non-null  float64\n",
      " 14  delinq_2yrs             42535 non-null  float64\n",
      " 15  earliest_cr_line        42535 non-null  object \n",
      " 16  inq_last_6mths          42535 non-null  float64\n",
      " 17  mths_since_last_delinq  42535 non-null  float64\n",
      " 18  mths_since_last_record  42535 non-null  float64\n",
      " 19  open_acc                42535 non-null  float64\n",
      " 20  revol_bal               42535 non-null  float64\n",
      " 21  revol_util              42535 non-null  float64\n",
      " 22  total_acc               42535 non-null  float64\n",
      " 23  total_rec_late_fee      42535 non-null  float64\n",
      " 24  recoveries              42535 non-null  float64\n",
      " 25  last_pymnt_amnt         42535 non-null  float64\n",
      " 26  next_pymnt_d            42535 non-null  object \n",
      " 27  last_credit_pull_d      42535 non-null  object \n",
      " 28  acc_now_delinq          42535 non-null  float64\n",
      " 29  debt_settlement_flag    42535 non-null  object \n",
      "dtypes: float64(16), int32(1), object(13)\n",
      "memory usage: 9.9+ MB\n"
     ]
    }
   ],
   "source": [
    "# inspecting the dataframe\n",
    "df.info()"
   ]
  },
  {
   "cell_type": "markdown",
   "metadata": {},
   "source": [
    "## Data Exploration"
   ]
  },
  {
   "cell_type": "code",
   "execution_count": 459,
   "metadata": {},
   "outputs": [
    {
     "data": {
      "text/plain": [
       "Text(0, 0.5, 'Frequency')"
      ]
     },
     "execution_count": 459,
     "metadata": {},
     "output_type": "execute_result"
    },
    {
     "data": {
      "image/png": "[encoded data removed]",
      "text/plain": [
       "<Figure size 432x288 with 1 Axes>"
      ]
     },
     "metadata": {
      "needs_background": "light"
     },
     "output_type": "display_data"
    }
   ],
   "source": [
    "# creating a count plot \n",
    "sns.countplot(x = 'loan_status', data = df, palette = 'husl')\n",
    "plt.xlabel('Loan Status')\n",
    "plt.title('Loan Status Frequency')\n",
    "plt.ylabel('Frequency')\n",
    "# the graph shows the imbalance between the classes"
   ]
  },
  {
   "cell_type": "code",
   "execution_count": 460,
   "metadata": {},
   "outputs": [
    {
     "data": {
      "text/plain": [
       "<seaborn.axisgrid.FacetGrid at 0x11c7796ab88>"
      ]
     },
     "execution_count": 460,
     "metadata": {},
     "output_type": "execute_result"
    },
    {
     "data": {
      "image/png": "[encoded data removed]",
      "text/plain": [
       "<Figure size 720x360 with 2 Axes>"
      ]
     },
     "metadata": {
      "needs_background": "light"
     },
     "output_type": "display_data"
    }
   ],
   "source": [
    "# creating a count plot with different graphs for both classes of loan_status\n",
    "sns.catplot(x = 'grade', data = df, palette = 'husl', col = 'loan_status', \n",
    "            kind = 'count', order = df.grade.value_counts().index)\n",
    "# the plot tells us that the loans with B category tend to have highest count of being fully paid\n",
    "# the Grade C loan has a highest count of being charged off"
   ]
  },
  {
   "cell_type": "code",
   "execution_count": 461,
   "metadata": {},
   "outputs": [
    {
     "data": {
      "text/plain": [
       "(array([ 0,  1,  2,  3,  4,  5,  6,  7,  8,  9, 10, 11, 12, 13, 14, 15, 16,\n",
       "        17, 18, 19, 20, 21, 22, 23, 24, 25, 26, 27, 28, 29, 30, 31, 32, 33,\n",
       "        34]),\n",
       " <a list of 35 Text xticklabel objects>)"
      ]
     },
     "execution_count": 461,
     "metadata": {},
     "output_type": "execute_result"
    },
    {
     "data": {
      "image/png": "[encoded data removed]",
      "text/plain": [
       "<Figure size 816.5x360 with 1 Axes>"
      ]
     },
     "metadata": {
      "needs_background": "light"
     },
     "output_type": "display_data"
    }
   ],
   "source": [
    "sns.catplot(x = 'sub_grade', data = df, palette = 'husl', hue = 'loan_status', \n",
    "            kind = 'count', order = df.sub_grade.value_counts().index, height=5, aspect=2)\n",
    "plt.xlabel('Sub Grade')\n",
    "plt.ylabel('Frequency')\n",
    "plt.title('Sub Grade Count')\n",
    "plt.xticks(rotation = 90)\n",
    "# the sub grade graph validates our previous assumptions of how grades affect loan status"
   ]
  },
  {
   "cell_type": "code",
   "execution_count": 462,
   "metadata": {},
   "outputs": [
    {
     "data": {
      "text/plain": [
       "Text(0.5, 1, 'Distribution of Loan Amount with Status')"
      ]
     },
     "execution_count": 462,
     "metadata": {},
     "output_type": "execute_result"
    },
    {
     "data": {
      "image/png": "[encoded data removed]",
      "text/plain": [
       "<Figure size 360x360 with 1 Axes>"
      ]
     },
     "metadata": {
      "needs_background": "light"
     },
     "output_type": "display_data"
    }
   ],
   "source": [
    "sns.catplot(x = 'loan_amnt', data = df, y = 'loan_status', kind = 'box', palette = 'hls')\n",
    "plt.xlabel('Loan Amount')\n",
    "plt.ylabel('Loan Status')\n",
    "plt.title('Distribution of Loan Amount with Status')\n"
   ]
  },
  {
   "cell_type": "code",
   "execution_count": 463,
   "metadata": {},
   "outputs": [
    {
     "data": {
      "text/plain": [
       "Text(0.5, 1, 'Distribution of Interest Rates with Loan Status')"
      ]
     },
     "execution_count": 463,
     "metadata": {},
     "output_type": "execute_result"
    },
    {
     "data": {
      "image/png": "[encoded data removed]",
      "text/plain": [
       "<Figure size 360x360 with 1 Axes>"
      ]
     },
     "metadata": {
      "needs_background": "light"
     },
     "output_type": "display_data"
    }
   ],
   "source": [
    "sns.catplot(x = 'int_rate', y = 'loan_status', data = df, kind = 'box')\n",
    "plt.xlabel('Interest Rate')\n",
    "plt.ylabel('Loan Status')\n",
    "plt.title('Distribution of Interest Rates with Loan Status')\n",
    "# the 75% interest rates of charged off loan tend to be lesser than 16.5% \n",
    "# the 75% of the interest rates of fully paid tend to be lesser than 15% "
   ]
  },
  {
   "cell_type": "code",
   "execution_count": 464,
   "metadata": {},
   "outputs": [
    {
     "data": {
      "text/plain": [
       "<seaborn.axisgrid.FacetGrid at 0x11c04e7f608>"
      ]
     },
     "execution_count": 464,
     "metadata": {},
     "output_type": "execute_result"
    },
    {
     "data": {
      "image/png": "[encoded data removed]",
      "text/plain": [
       "<Figure size 720x360 with 2 Axes>"
      ]
     },
     "metadata": {
      "needs_background": "light"
     },
     "output_type": "display_data"
    }
   ],
   "source": [
    "sns.catplot(x = 'int_rate', col = 'loan_status', data = df, kind = 'box', y = 'term', palette = 'RdBu')\n",
    "# this plot tells us that usually if the term is 3 years then interest rates are tend to be lower than 5 years"
   ]
  },
  {
   "cell_type": "code",
   "execution_count": 465,
   "metadata": {},
   "outputs": [
    {
     "data": {
      "text/plain": [
       "Text(0.5, 1.0, 'Home Ownership Vs. Annual Income')"
      ]
     },
     "execution_count": 465,
     "metadata": {},
     "output_type": "execute_result"
    },
    {
     "data": {
      "image/png": "[encoded data removed]",
      "text/plain": [
       "<Figure size 432x288 with 1 Axes>"
      ]
     },
     "metadata": {
      "needs_background": "light"
     },
     "output_type": "display_data"
    }
   ],
   "source": [
    "# this plot discusses that usually people with very higher income have homes on mortgage or on rent \n",
    "# usually the richer people tend to have more own homes but these results are quite interesting and can be a topic of discussion \n",
    "# as higher income could be potentially outlier\n",
    "sns.boxenplot(y = 'annual_inc', x = 'home_ownership', data = df)\n",
    "plt.xlabel('Home Ownership')\n",
    "plt.ylabel('Annual Income')\n",
    "plt.title('Home Ownership Vs. Annual Income')"
   ]
  },
  {
   "cell_type": "code",
   "execution_count": 466,
   "metadata": {},
   "outputs": [
    {
     "data": {
      "text/plain": [
       "Text(0.5, 1, 'Distribution of DTI wrt Loan Status')"
      ]
     },
     "execution_count": 466,
     "metadata": {},
     "output_type": "execute_result"
    },
    {
     "data": {
      "image/png": "[encoded data removed]",
      "text/plain": [
       "<Figure size 360x360 with 1 Axes>"
      ]
     },
     "metadata": {
      "needs_background": "light"
     },
     "output_type": "display_data"
    }
   ],
   "source": [
    "sns.catplot(x = 'dti', y = 'loan_status', kind = 'box', data = df)\n",
    "plt.xlabel('Debt to Income Ratio')\n",
    "plt.ylabel('Loan Status')\n",
    "plt.title('Distribution of DTI wrt Loan Status')\n",
    "# in case of fully paid loans usually 75% of the dti are less than equal to 18 \n",
    "# in case of charged off loans usually 75% of the dti are less than equal to 19"
   ]
  },
  {
   "cell_type": "code",
   "execution_count": 467,
   "metadata": {},
   "outputs": [
    {
     "data": {
      "text/plain": [
       "Text(0.5, 1.0, 'Verification Status Frequency')"
      ]
     },
     "execution_count": 467,
     "metadata": {},
     "output_type": "execute_result"
    },
    {
     "data": {
      "image/png": "[encoded data removed]",
      "text/plain": [
       "<Figure size 432x288 with 1 Axes>"
      ]
     },
     "metadata": {
      "needs_background": "light"
     },
     "output_type": "display_data"
    }
   ],
   "source": [
    "sns.countplot(x = 'verification_status', data = df, hue = 'loan_status', palette = 'husl', \n",
    "              order = df.verification_status.value_counts().index)\n",
    "plt.xlabel('Verification Status')\n",
    "plt.ylabel('Frequency')\n",
    "plt.title('Verification Status Frequency')\n",
    "# plots the count plot verification status with loan_status and ordering the counts in descending order"
   ]
  },
  {
   "cell_type": "code",
   "execution_count": 468,
   "metadata": {},
   "outputs": [
    {
     "data": {
      "text/plain": [
       "(array([ 0,  1,  2,  3,  4,  5,  6,  7,  8,  9, 10, 11, 12, 13]),\n",
       " <a list of 14 Text xticklabel objects>)"
      ]
     },
     "execution_count": 468,
     "metadata": {},
     "output_type": "execute_result"
    },
    {
     "data": {
      "image/png": "[encoded data removed]",
      "text/plain": [
       "<Figure size 456.5x360 with 1 Axes>"
      ]
     },
     "metadata": {
      "needs_background": "light"
     },
     "output_type": "display_data"
    }
   ],
   "source": [
    "sns.catplot(x = 'purpose', data = df, hue = 'loan_status', palette = 'husl', \n",
    "              order = df.purpose.value_counts().index, kind = 'count')\n",
    "plt.xticks(rotation = 90)\n",
    "# comparing the purpose of loan with the loan status"
   ]
  },
  {
   "cell_type": "code",
   "execution_count": 469,
   "metadata": {},
   "outputs": [
    {
     "data": {
      "text/plain": [
       "Text(0.5, 1, 'Loan Statuses for Top 10 States ')"
      ]
     },
     "execution_count": 469,
     "metadata": {},
     "output_type": "execute_result"
    },
    {
     "data": {
      "image/png": "[encoded data removed]",
      "text/plain": [
       "<Figure size 456.5x360 with 1 Axes>"
      ]
     },
     "metadata": {
      "needs_background": "light"
     },
     "output_type": "display_data"
    }
   ],
   "source": [
    "sns.catplot(y = 'addr_state', hue = 'loan_status', data = df, \n",
    "              order = df.addr_state.value_counts().iloc[:10].index, palette = 'viridis_r', kind = 'count')\n",
    "plt.ylabel('States')\n",
    "plt.title('Loan Statuses for Top 10 States ')\n",
    "# this plot shows that most of the loans (6000+) fully paid are from the state of California\n",
    "# california people also tend to charged off the loans the most"
   ]
  },
  {
   "cell_type": "code",
   "execution_count": 470,
   "metadata": {},
   "outputs": [
    {
     "data": {
      "text/plain": [
       "Text(0.5, 1, 'Loan Status for Recoveries')"
      ]
     },
     "execution_count": 470,
     "metadata": {},
     "output_type": "execute_result"
    },
    {
     "data": {
      "image/png": "[encoded data removed]",
      "text/plain": [
       "<Figure size 360x360 with 1 Axes>"
      ]
     },
     "metadata": {
      "needs_background": "light"
     },
     "output_type": "display_data"
    }
   ],
   "source": [
    "sns.catplot(x = 'recoveries', kind = 'boxen', data = df, y = 'loan_status')\n",
    "plt.ylabel('Loan Status')\n",
    "plt.xlabel('Recoveries')\n",
    "plt.title('Loan Status for Recoveries')\n",
    "# this plot tells us that all loans that are fully paid have 0 recoveries\n",
    "# loans which are charged off usually have recoveries"
   ]
  },
  {
   "cell_type": "code",
   "execution_count": 471,
   "metadata": {},
   "outputs": [
    {
     "data": {
      "text/plain": [
       "Text(0.5, 1, 'Loan Status for Last Payment Amount')"
      ]
     },
     "execution_count": 471,
     "metadata": {},
     "output_type": "execute_result"
    },
    {
     "data": {
      "image/png": "[encoded data removed]",
      "text/plain": [
       "<Figure size 360x360 with 1 Axes>"
      ]
     },
     "metadata": {
      "needs_background": "light"
     },
     "output_type": "display_data"
    }
   ],
   "source": [
    "sns.catplot(x = 'last_pymnt_amnt', data = df, kind = 'boxen', y = 'loan_status')\n",
    "plt.xlabel('Last Payment Amount')\n",
    "plt.ylabel('Loan Status')\n",
    "plt.title('Loan Status for Last Payment Amount')\n",
    "# this plot states that if the last paid amount for the loan is varies upto 35000, \n",
    "# there is a significant chance that the loan is fully paid"
   ]
  },
  {
   "cell_type": "code",
   "execution_count": 473,
   "metadata": {},
   "outputs": [
    {
     "data": {
      "text/plain": [
       "Text(0.5, 1, 'Delinquency wrt Loan Status')"
      ]
     },
     "execution_count": 473,
     "metadata": {},
     "output_type": "execute_result"
    },
    {
     "data": {
      "image/png": "[encoded data removed]",
      "text/plain": [
       "<Figure size 360x360 with 1 Axes>"
      ]
     },
     "metadata": {
      "needs_background": "light"
     },
     "output_type": "display_data"
    }
   ],
   "source": [
    "sns.catplot(x = 'delinq_2yrs', data = df, kind = 'boxen', y = 'loan_status')\n",
    "plt.xlabel('Delinquency 2 Years')\n",
    "plt.ylabel('Loan Status')\n",
    "plt.title('Delinquency wrt Loan Status')\n",
    "# delinquency = borrower misses a payment on a loan"
   ]
  },
  {
   "cell_type": "markdown",
   "metadata": {},
   "source": [
    "## Model Prediction"
   ]
  },
  {
   "cell_type": "code",
   "execution_count": 474,
   "metadata": {},
   "outputs": [],
   "source": [
    "# importing all the libraries for fitting and predicting the model\n",
    "from sklearn.model_selection import train_test_split\n",
    "from sklearn.linear_model import LogisticRegression\n",
    "from sklearn.ensemble import RandomForestClassifier, GradientBoostingClassifier\n",
    "from sklearn.preprocessing import StandardScaler\n",
    "from sklearn.model_selection import GridSearchCV\n",
    "from sklearn.pipeline import make_pipeline\n",
    "from sklearn.metrics import confusion_matrix, classification_report"
   ]
  },
  {
   "cell_type": "code",
   "execution_count": 495,
   "metadata": {},
   "outputs": [],
   "source": [
    "# specifying X and y\n",
    "X = df.drop('loan_status', axis = 1)\n",
    "y = df.loan_status"
   ]
  },
  {
   "cell_type": "code",
   "execution_count": 496,
   "metadata": {},
   "outputs": [],
   "source": [
    "# dealing with categorical variables in X \n",
    "X = pd.get_dummies(X)"
   ]
  },
  {
   "cell_type": "code",
   "execution_count": 477,
   "metadata": {},
   "outputs": [],
   "source": [
    "# splitting the dataset\n",
    "X_train, X_test, y_train, y_test = train_test_split(X, y, test_size = 0.25, random_state = 42, stratify = df.loan_status)"
   ]
  },
  {
   "cell_type": "code",
   "execution_count": 478,
   "metadata": {},
   "outputs": [],
   "source": [
    "# creating pipelines\n",
    "# each pipeline will first standardize the data so that all the data are on same scale and then perform fitting the model\n",
    "pipelines = {\n",
    "    'l2' : make_pipeline(StandardScaler(), LogisticRegression(penalty='l2' , random_state=123)),\n",
    "    'rf' : make_pipeline(StandardScaler(), RandomForestClassifier(random_state=123)),\n",
    "    'gb' : make_pipeline(StandardScaler(), GradientBoostingClassifier(random_state=123))}"
   ]
  },
  {
   "cell_type": "code",
   "execution_count": 479,
   "metadata": {},
   "outputs": [],
   "source": [
    "# intializing the parameters for all of the Classifiers\n",
    "l2_hyperparameters = {'logisticregression__C' : np.linspace(1e-3, 1e3, 10),}\n",
    "\n",
    "# Random Forest hyperparameters\n",
    "rf_hyperparameters = {\n",
    "    'randomforestclassifier__n_estimators': [20, 40],\n",
    "    'randomforestclassifier__max_features': ['auto', 'sqrt', 0.5],\n",
    "    'randomforestclassifier__min_samples_leaf': [1,3]\n",
    "}\n",
    "#Gradient Boosting hyperparameters\n",
    "gb_hyperparameters = {\n",
    "    'gradientboostingclassifier__n_estimators': [20, 40],\n",
    "    'gradientboostingclassifier__learning_rate': [0.05, 0.1, 0.2, 0.3],\n",
    "    'gradientboostingclassifier__max_depth': [1, 3, 5]\n",
    "}"
   ]
  },
  {
   "cell_type": "code",
   "execution_count": 480,
   "metadata": {},
   "outputs": [],
   "source": [
    "# setting the hyperparameters for the models\n",
    "hyperparameters = {\n",
    "    'l2' : l2_hyperparameters,\n",
    "    'rf' : rf_hyperparameters,\n",
    "    'gb' : gb_hyperparameters\n",
    "}"
   ]
  },
  {
   "cell_type": "code",
   "execution_count": 491,
   "metadata": {},
   "outputs": [
    {
     "name": "stderr",
     "output_type": "stream",
     "text": [
      "C:\\ProgramData\\Anaconda3\\lib\\site-packages\\sklearn\\linear_model\\_logistic.py:940: ConvergenceWarning: lbfgs failed to converge (status=1):\n",
      "STOP: TOTAL NO. of ITERATIONS REACHED LIMIT.\n",
      "\n",
      "Increase the number of iterations (max_iter) or scale the data as shown in:\n",
      "    https://scikit-learn.org/stable/modules/preprocessing.html\n",
      "Please also refer to the documentation for alternative solver options:\n",
      "    https://scikit-learn.org/stable/modules/linear_model.html#logistic-regression\n",
      "  extra_warning_msg=_LOGISTIC_SOLVER_CONVERGENCE_MSG)\n"
     ]
    },
    {
     "name": "stdout",
     "output_type": "stream",
     "text": [
      "l2 has been fitted.\n",
      "rf has been fitted.\n",
      "gb has been fitted.\n"
     ]
    }
   ],
   "source": [
    "fitted_models = {}\n",
    "algs_to_test = ['l2', 'rf', 'gb']\n",
    "\n",
    "# Loop through model pipelines, tuning each one and saving it to fitted_models\n",
    "for name, pipeline in pipelines.items():\n",
    "    # Create cross-validation object from pipeline and hyperparameters\n",
    "    model = GridSearchCV(pipeline, hyperparameters[name], cv=5, n_jobs=-1)\n",
    "    \n",
    "    # Fit model on X_train, y_train\n",
    "    if name in algs_to_test:\n",
    "        model.fit(X_train, y_train)\n",
    "        fitted_models[name] = model\n",
    "        print(name, 'has been fitted.')"
   ]
  },
  {
   "cell_type": "code",
   "execution_count": 492,
   "metadata": {},
   "outputs": [
    {
     "name": "stdout",
     "output_type": "stream",
     "text": [
      "l2 0.9752672565374269\n",
      "rf 0.998808828525651\n",
      "gb 0.9987147816903269\n"
     ]
    }
   ],
   "source": [
    "# checking which model performed the best\n",
    "for name, model in fitted_models.items():\n",
    "    print( name, model.best_score_ )"
   ]
  },
  {
   "cell_type": "code",
   "execution_count": 493,
   "metadata": {},
   "outputs": [
    {
     "data": {
      "text/plain": [
       "array([[1602,    6],\n",
       "       [   2, 9024]], dtype=int64)"
      ]
     },
     "execution_count": 493,
     "metadata": {},
     "output_type": "execute_result"
    }
   ],
   "source": [
    "# since Random Forest had the highest accuracy, using that for predicting the y_test and printing confusion matrix\n",
    "pred_rf = fitted_models['rf'].predict(X_test)\n",
    "confusion_matrix(y_test, pred_rf)"
   ]
  },
  {
   "cell_type": "code",
   "execution_count": 494,
   "metadata": {},
   "outputs": [
    {
     "name": "stdout",
     "output_type": "stream",
     "text": [
      "              precision    recall  f1-score   support\n",
      "\n",
      " Charged Off       1.00      1.00      1.00      1608\n",
      "  Fully Paid       1.00      1.00      1.00      9026\n",
      "\n",
      "    accuracy                           1.00     10634\n",
      "   macro avg       1.00      1.00      1.00     10634\n",
      "weighted avg       1.00      1.00      1.00     10634\n",
      "\n"
     ]
    }
   ],
   "source": [
    "# checking whether how much of the true negatives were predicted as false positive by the model\n",
    "# checking whether how much of the true positives were predicted as false negative by the model \n",
    "print(classification_report(y_test, pred_rf))"
   ]
  }
 ],
 "metadata": {
  "kernelspec": {
   "display_name": "Python 3",
   "language": "python",
   "name": "python3"
  },
  "language_info": {
   "codemirror_mode": {
    "name": "ipython",
    "version": 3
   },
   "file_extension": ".py",
   "mimetype": "text/x-python",
   "name": "python",
   "nbconvert_exporter": "python",
   "pygments_lexer": "ipython3",
   "version": "3.7.6"
  }
 },
 "nbformat": 4,
 "nbformat_minor": 4
}
